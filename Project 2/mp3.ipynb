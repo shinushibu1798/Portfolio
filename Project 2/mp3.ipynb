{
 "cells": [
  {
   "cell_type": "markdown",
   "metadata": {},
   "source": [
    "Project by: Ittoop Shinu Shibu(A13719148), Bernard Wong(A15268417)"
   ]
  },
  {
   "cell_type": "markdown",
   "metadata": {
    "deletable": false,
    "editable": false,
    "nbgrader": {
     "checksum": "b8cf5f00bbb57fe995eb23a30e20ca30",
     "grade": false,
     "grade_id": "cell-025ad1c0a059d705",
     "locked": true,
     "schema_version": 1,
     "solution": false
    }
   },
   "source": [
    "## Mini-Project # 3\n",
    "\n",
    "Is it more or less likely to be injured in a bike-related accident if you are on a bike path or not? How would the results differ for injuries of different severity, by zip codes, and by the type of other party in the accident? In which parts of the city is it more likely to get into an alcohol-related accident? How can you explain that using additional statistics by zip codes, for example, by the number of alcohol-serving bars in the zip code? \n",
    "\n",
    "Let's answer these questions using Arcgis API for Python. This is your third mini-project.\n",
    "\n",
    "Recall the very first demo in the first lecture: we searched available content for \"bike san diego\", and found several layers or services, including collisions and bike routes. The collisions file showed bike and pedestrian TIMS-geocoded collisions in SD County (TIMS == Transpotation Injury Mapping System.) You can view the system description, including definitions of fields, at https://tims.berkeley.edu/help/SWITRS.php (SWITRS == Statewide Integrated Traffic Records System from CA Highway Patrol). There is a field indicating accidents that involved bicyclists. \n",
    "\n",
    "To answer the questions at the top of the cell, we'll need to integrate bike paths and accidents. But notice that the data we found through ArcGIS search during the first lecture, were for different times. So our first task is to grab more recent data and add it to the notebook you create. \n",
    "\n",
    "Your tasks, therefore, include:\n",
    "1. Create an account at https://tims.berkeley.edu/, and sign in.\n",
    "1. At SWITRS Query and Map, make a request for data from 1/1/2014 to 12/31/2018, for one or more cities in San Diego county (or just San Diego city.)  Specify that you are interested in bicycle collisions, and run the query.\n",
    "1. Make sure that you get back 1000 or more records (e.g. if you select just San Diego city, you'd get 2289 total bicycle collisions). \n",
    "1. Download the collision data as a csv file, and explore it. Also, download party and victims data, because some attributes you'd need are in these files.\n",
    "1. Explore the data you downloaded, and understand the fields you need to work with. See SWITRS FAQ page at https://tims.berkeley.edu/help/Query_and_Map.php#FAQs and the codebook at https://tims.berkeley.edu/help/SWITRS.php#Codebook. SWITRS is relatively well documented.\n",
    "1. Find the field that is common for the 3 tables (this is what you can use to join them). Note, also, that there are similarly-named fields in the three tables, but they apply to different types. For example, \"party sobriety\" is a field in the \"party\" table (here, you can tell who in the collision was under the influence), while there is also an \"alchohol involved\" field in the collision table.\n",
    "1. Read the collisions table into a Jupyter notebook, and create point map for it. Join other tables (possibly using group by) to this table. Also, save the table as a feature service into ArcGIS Online. \n",
    "1. Identify those collisions that happened along a bike path, and those that happened elsewhere. This may be tricky. Think about geometric meaning of \"being on a bike path\". Also, think which ArcGIS techniques you could use to connect data from the Collisions and the Bike Routes layers.\n",
    "1. Summarize collisions by zip codes, and also add additional data to the zip codes table, using geoenrichment (you may want to look at variables in categories such as businesses, GroceryAlcoholicBeverages, LeisureActivitiesLifestyle, food). You may also use the businesses data you worked with in MP2. To find a zip codes feature layer or shapefile, search extarnal content on ArcGIS Online.\n",
    "1. Do analysis of the collisions and zip codes layers, answering the questions at the top of this cell. Use a data analysis technique (eg regression) you learned in an earlier course. For example, you may use sklearn to build a model explaining severity of injuries as dependent on impairment, type of collision, and location. \n",
    "\n",
    "What you need to produce:\n",
    "1. Map (or maps) of bicycle-related accidents and bike paths, where accidents are shown with different colors or symbols depending on whether a)alcohol was involved, b) the bicyclist was at fault because of impairment, and c) type of the other party in the accident.\n",
    "2. Map by zip codes showing the alcohol-related bicycle accidents and one other variable by zip codes that may explain it (based on your findings)\n",
    "3. Documented Jupyter Notebook with step-by-step analysis \n",
    "4. A brief description of findings (300 words or more)\n",
    "5. URLs of resources you created on ArcGIS Online \n",
    "\n",
    "4. For extra credit: a) find additional interesting information by joining the victims table, b) how would you present these findings to a local planning commission that considers where to create bike paths avoiding areas that are prone to serious collisions? \n",
    "\n",
    "\n",
    "### Useful web sites about the problem:\n",
    "\n",
    "* https://www.afr.com/lifestyle/cars-bikes-and-boats/cycling/where-most-car-and-bicycle-collisions-take-place-and-how-to-avoid-them-20161018-gs4ikm\n",
    "* https://www.quora.com/How-do-most-vehicle-bicycle-collisions-occur\n",
    "* https://www.ncbi.nlm.nih.gov/pmc/articles/PMC3503407/\n",
    "* https://cityroom.blogs.nytimes.com/2009/04/09/study-links-alcohol-and-bike-deaths/\n"
   ]
  },
  {
   "cell_type": "code",
   "execution_count": 1,
   "metadata": {
    "deletable": false,
    "editable": false,
    "nbgrader": {
     "checksum": "792f15988f24d10eb0a1e3bf737473b1",
     "grade": false,
     "grade_id": "cell-c9302920f2c1b529",
     "locked": true,
     "schema_version": 1,
     "solution": false
    }
   },
   "outputs": [],
   "source": [
    "# 1. Load the data (using concent manager, and also adding downloaded datasets), retain only fields we need\n",
    "# You code goes here\n"
   ]
  },
  {
   "cell_type": "code",
   "execution_count": 2,
   "metadata": {
    "scrolled": true
   },
   "outputs": [],
   "source": [
    "import arcgis\n",
    "from arcgis.gis import GIS\n",
    "from arcgis import geometry\n",
    "from arcgis.features import GeoAccessor, GeoSeriesAccessor\n",
    "import pandas as pd\n"
   ]
  },
  {
   "cell_type": "code",
   "execution_count": 3,
   "metadata": {},
   "outputs": [
    {
     "name": "stdout",
     "output_type": "stream",
     "text": [
      "Enter password: ········\n"
     ]
    }
   ],
   "source": [
    "gis = GIS(username='ishibu_UCSDOnline')"
   ]
  },
  {
   "cell_type": "code",
   "execution_count": 4,
   "metadata": {},
   "outputs": [],
   "source": [
    "from arcgis.geoenrichment import *"
   ]
  },
  {
   "cell_type": "code",
   "execution_count": 5,
   "metadata": {},
   "outputs": [],
   "source": [
    "from arcgis.features.find_locations import find_existing_locations"
   ]
  },
  {
   "cell_type": "code",
   "execution_count": 6,
   "metadata": {},
   "outputs": [],
   "source": [
    "import numpy as np"
   ]
  },
  {
   "cell_type": "code",
   "execution_count": 7,
   "metadata": {},
   "outputs": [],
   "source": [
    "from arcgis.features import use_proximity"
   ]
  },
  {
   "cell_type": "code",
   "execution_count": 8,
   "metadata": {},
   "outputs": [],
   "source": [
    "from arcgis.features.use_proximity import create_buffers"
   ]
  },
  {
   "cell_type": "code",
   "execution_count": 9,
   "metadata": {},
   "outputs": [],
   "source": [
    "collisions = pd.read_csv('Bicycle_Collision/Collisions.csv')\n",
    "parties = pd.read_csv('Bicycle_Collision/Parties.csv')\n",
    "victims = pd.read_csv('Bicycle_Collision/Victims.csv')"
   ]
  },
  {
   "cell_type": "code",
   "execution_count": 10,
   "metadata": {},
   "outputs": [
    {
     "data": {
      "text/plain": [
       "2289"
      ]
     },
     "execution_count": 10,
     "metadata": {},
     "output_type": "execute_result"
    }
   ],
   "source": [
    "collisions['CASE_ID'].nunique()"
   ]
  },
  {
   "cell_type": "code",
   "execution_count": 11,
   "metadata": {},
   "outputs": [
    {
     "data": {
      "text/plain": [
       "2289"
      ]
     },
     "execution_count": 11,
     "metadata": {},
     "output_type": "execute_result"
    }
   ],
   "source": [
    "parties['CASE_ID'].nunique()"
   ]
  },
  {
   "cell_type": "code",
   "execution_count": 12,
   "metadata": {},
   "outputs": [
    {
     "data": {
      "text/plain": [
       "2289"
      ]
     },
     "execution_count": 12,
     "metadata": {},
     "output_type": "execute_result"
    }
   ],
   "source": [
    "victims['CASE_ID'].nunique()"
   ]
  },
  {
   "cell_type": "markdown",
   "metadata": {},
   "source": [
    "# SETUP "
   ]
  },
  {
   "cell_type": "markdown",
   "metadata": {},
   "source": [
    "With all the csv's read in, we went ahead and narrowed down the columns that we deemed most important. Our main focus is on the collisions and parties csv, so we went through the columns and narrowed it down to the bare necessities. Here are the columns we decided were most important:"
   ]
  },
  {
   "cell_type": "code",
   "execution_count": 13,
   "metadata": {},
   "outputs": [],
   "source": [
    "collisions = collisions[['CASE_ID','POPULATION','COLLISION_SEVERITY','NUMBER_KILLED','NUMBER_INJURED','PARTY_COUNT','PRIMARY_COLL_FACTOR','PEDESTRIAN_ACCIDENT','BICYCLE_ACCIDENT','MOTORCYCLE_ACCIDENT','TRUCK_ACCIDENT','ALCOHOL_INVOLVED','COUNT_PED_KILLED','COUNT_PED_INJURED','COUNT_BICYCLIST_KILLED','COUNT_BICYCLIST_INJURED','COUNT_MC_KILLED','COUNT_MC_INJURED','LATITUDE','LONGITUDE','COUNTY','CITY','POINT_X','POINT_Y']]"
   ]
  },
  {
   "cell_type": "code",
   "execution_count": 14,
   "metadata": {
    "deletable": false,
    "nbgrader": {
     "checksum": "c19f45d2e62fa7a4913d7a1dd9a4e6d2",
     "grade": true,
     "grade_id": "cell-b160cd595686c227",
     "locked": false,
     "points": 5,
     "schema_version": 1,
     "solution": true
    }
   },
   "outputs": [],
   "source": [
    "parties = parties[['CASE_ID', 'PARTY_NUMBER','PARTY_TYPE','PARTY_SEX','PARTY_AGE','PARTY_SOBRIETY','PARTY_DRUG_PHYSICAL']]"
   ]
  },
  {
   "cell_type": "code",
   "execution_count": 15,
   "metadata": {
    "deletable": false,
    "editable": false,
    "nbgrader": {
     "checksum": "e13edd388ad80f0bb22ba89d4fabfd2b",
     "grade": false,
     "grade_id": "cell-11c87a47a0c605a5",
     "locked": true,
     "schema_version": 1,
     "solution": false
    }
   },
   "outputs": [],
   "source": [
    "# 2. Joining party (and  victims, if going for extra credit) to collisions. \n",
    "# You code goes here\n"
   ]
  },
  {
   "cell_type": "markdown",
   "metadata": {},
   "source": [
    "# Merging the tables"
   ]
  },
  {
   "cell_type": "markdown",
   "metadata": {},
   "source": [
    "In order to perform some geographic analysis, we need to be join these tables. The common column is 'CASE_ID', but there are issues with parties; parties has repeats of 'CASE_ID's due to a report being made for each member involved in each case. As a result, we decided to simplify cases and group them into each unique 'CASE_ID' and the unique count within 'PARTY_TYPE' and 'PARTY_SOBRIETY'."
   ]
  },
  {
   "cell_type": "code",
   "execution_count": 16,
   "metadata": {},
   "outputs": [],
   "source": [
    "parties = parties.replace({'-':np.NaN})\n",
    "party_type = pd.DataFrame(parties.groupby('CASE_ID')['PARTY_TYPE'].value_counts())\n",
    "party_type.columns = ['number']\n",
    "party_type = party_type.reset_index()\n",
    "party_type = pd.pivot_table(party_type,columns = 'PARTY_TYPE',index = 'CASE_ID', values = 'number')\n",
    "party_type = party_type.replace({np.NaN:0})\n",
    "party_type.columns = ['1','2', '3','4','5']\n",
    "party_type = party_type.reset_index()"
   ]
  },
  {
   "cell_type": "code",
   "execution_count": 17,
   "metadata": {},
   "outputs": [],
   "source": [
    "parties = parties.replace({'-':np.NaN})\n",
    "alcohol_type = pd.DataFrame(parties.groupby('CASE_ID')['PARTY_SOBRIETY'].value_counts())\n",
    "alcohol_type.columns = ['number']\n",
    "alcohol_type = alcohol_type.reset_index()\n",
    "alcohol_type = pd.pivot_table(alcohol_type,columns = 'PARTY_SOBRIETY',index = 'CASE_ID', values = 'number')\n",
    "alcohol_type = alcohol_type.replace({np.NaN:0})\n",
    "alcohol_type = alcohol_type.drop(columns=['G','H'])\n",
    "alcohol_type['NUM_ALCOHOL'] = alcohol_type.apply(lambda x: x['B']+x['C']+x['D'], axis=1)\n",
    "alcohol_type = alcohol_type.drop(columns=['B','C','D'])\n",
    "alcohol_type.columns = ['NUM_NON_ALCOHOL','NUM_ALCOHOL']\n",
    "alcohol_type = alcohol_type.reset_index()"
   ]
  },
  {
   "cell_type": "code",
   "execution_count": 18,
   "metadata": {},
   "outputs": [],
   "source": [
    "party_merged = pd.merge(party_type, alcohol_type)"
   ]
  },
  {
   "cell_type": "markdown",
   "metadata": {},
   "source": [
    "After resolving the multiple cases in 'CASE_ID' for parties, we are able to merge collisions and parties together to get the proper DataFrame."
   ]
  },
  {
   "cell_type": "code",
   "execution_count": 19,
   "metadata": {},
   "outputs": [
    {
     "data": {
      "text/html": [
       "<div>\n",
       "<style scoped>\n",
       "    .dataframe tbody tr th:only-of-type {\n",
       "        vertical-align: middle;\n",
       "    }\n",
       "\n",
       "    .dataframe tbody tr th {\n",
       "        vertical-align: top;\n",
       "    }\n",
       "\n",
       "    .dataframe thead th {\n",
       "        text-align: right;\n",
       "    }\n",
       "</style>\n",
       "<table border=\"1\" class=\"dataframe\">\n",
       "  <thead>\n",
       "    <tr style=\"text-align: right;\">\n",
       "      <th></th>\n",
       "      <th>CASE_ID</th>\n",
       "      <th>POPULATION</th>\n",
       "      <th>COLLISION_SEVERITY</th>\n",
       "      <th>NUMBER_KILLED</th>\n",
       "      <th>NUMBER_INJURED</th>\n",
       "      <th>PARTY_COUNT</th>\n",
       "      <th>PRIMARY_COLL_FACTOR</th>\n",
       "      <th>PEDESTRIAN_ACCIDENT</th>\n",
       "      <th>BICYCLE_ACCIDENT</th>\n",
       "      <th>MOTORCYCLE_ACCIDENT</th>\n",
       "      <th>...</th>\n",
       "      <th>CITY</th>\n",
       "      <th>POINT_X</th>\n",
       "      <th>POINT_Y</th>\n",
       "      <th>1</th>\n",
       "      <th>2</th>\n",
       "      <th>3</th>\n",
       "      <th>4</th>\n",
       "      <th>5</th>\n",
       "      <th>NUM_NON_ALCOHOL</th>\n",
       "      <th>NUM_ALCOHOL</th>\n",
       "    </tr>\n",
       "  </thead>\n",
       "  <tbody>\n",
       "    <tr>\n",
       "      <th>0</th>\n",
       "      <td>90581634</td>\n",
       "      <td>7</td>\n",
       "      <td>3</td>\n",
       "      <td>0</td>\n",
       "      <td>1</td>\n",
       "      <td>1</td>\n",
       "      <td>C</td>\n",
       "      <td>NaN</td>\n",
       "      <td>Y</td>\n",
       "      <td>NaN</td>\n",
       "      <td>...</td>\n",
       "      <td>SAN DIEGO</td>\n",
       "      <td>-117.10352</td>\n",
       "      <td>33.022082</td>\n",
       "      <td>0.0</td>\n",
       "      <td>0.0</td>\n",
       "      <td>0.0</td>\n",
       "      <td>1.0</td>\n",
       "      <td>0.0</td>\n",
       "      <td>1.0</td>\n",
       "      <td>0.0</td>\n",
       "    </tr>\n",
       "    <tr>\n",
       "      <th>1</th>\n",
       "      <td>90410428</td>\n",
       "      <td>7</td>\n",
       "      <td>4</td>\n",
       "      <td>0</td>\n",
       "      <td>1</td>\n",
       "      <td>2</td>\n",
       "      <td>A</td>\n",
       "      <td>NaN</td>\n",
       "      <td>Y</td>\n",
       "      <td>NaN</td>\n",
       "      <td>...</td>\n",
       "      <td>SAN DIEGO</td>\n",
       "      <td>NaN</td>\n",
       "      <td>NaN</td>\n",
       "      <td>1.0</td>\n",
       "      <td>0.0</td>\n",
       "      <td>0.0</td>\n",
       "      <td>1.0</td>\n",
       "      <td>0.0</td>\n",
       "      <td>2.0</td>\n",
       "      <td>0.0</td>\n",
       "    </tr>\n",
       "    <tr>\n",
       "      <th>2</th>\n",
       "      <td>90027314</td>\n",
       "      <td>7</td>\n",
       "      <td>3</td>\n",
       "      <td>0</td>\n",
       "      <td>1</td>\n",
       "      <td>1</td>\n",
       "      <td>B</td>\n",
       "      <td>NaN</td>\n",
       "      <td>Y</td>\n",
       "      <td>NaN</td>\n",
       "      <td>...</td>\n",
       "      <td>SAN DIEGO</td>\n",
       "      <td>NaN</td>\n",
       "      <td>NaN</td>\n",
       "      <td>0.0</td>\n",
       "      <td>0.0</td>\n",
       "      <td>0.0</td>\n",
       "      <td>1.0</td>\n",
       "      <td>0.0</td>\n",
       "      <td>1.0</td>\n",
       "      <td>0.0</td>\n",
       "    </tr>\n",
       "    <tr>\n",
       "      <th>3</th>\n",
       "      <td>90196205</td>\n",
       "      <td>7</td>\n",
       "      <td>4</td>\n",
       "      <td>0</td>\n",
       "      <td>1</td>\n",
       "      <td>2</td>\n",
       "      <td>A</td>\n",
       "      <td>NaN</td>\n",
       "      <td>Y</td>\n",
       "      <td>NaN</td>\n",
       "      <td>...</td>\n",
       "      <td>SAN DIEGO</td>\n",
       "      <td>-117.10919</td>\n",
       "      <td>33.005710</td>\n",
       "      <td>1.0</td>\n",
       "      <td>0.0</td>\n",
       "      <td>0.0</td>\n",
       "      <td>1.0</td>\n",
       "      <td>0.0</td>\n",
       "      <td>2.0</td>\n",
       "      <td>0.0</td>\n",
       "    </tr>\n",
       "    <tr>\n",
       "      <th>4</th>\n",
       "      <td>90124838</td>\n",
       "      <td>7</td>\n",
       "      <td>2</td>\n",
       "      <td>0</td>\n",
       "      <td>1</td>\n",
       "      <td>2</td>\n",
       "      <td>A</td>\n",
       "      <td>NaN</td>\n",
       "      <td>Y</td>\n",
       "      <td>NaN</td>\n",
       "      <td>...</td>\n",
       "      <td>SAN DIEGO</td>\n",
       "      <td>-117.20530</td>\n",
       "      <td>32.760460</td>\n",
       "      <td>1.0</td>\n",
       "      <td>0.0</td>\n",
       "      <td>0.0</td>\n",
       "      <td>1.0</td>\n",
       "      <td>0.0</td>\n",
       "      <td>1.0</td>\n",
       "      <td>1.0</td>\n",
       "    </tr>\n",
       "  </tbody>\n",
       "</table>\n",
       "<p>5 rows × 31 columns</p>\n",
       "</div>"
      ],
      "text/plain": [
       "    CASE_ID  POPULATION  COLLISION_SEVERITY  NUMBER_KILLED  NUMBER_INJURED  \\\n",
       "0  90581634           7                   3              0               1   \n",
       "1  90410428           7                   4              0               1   \n",
       "2  90027314           7                   3              0               1   \n",
       "3  90196205           7                   4              0               1   \n",
       "4  90124838           7                   2              0               1   \n",
       "\n",
       "   PARTY_COUNT PRIMARY_COLL_FACTOR PEDESTRIAN_ACCIDENT BICYCLE_ACCIDENT  \\\n",
       "0            1                   C                 NaN                Y   \n",
       "1            2                   A                 NaN                Y   \n",
       "2            1                   B                 NaN                Y   \n",
       "3            2                   A                 NaN                Y   \n",
       "4            2                   A                 NaN                Y   \n",
       "\n",
       "  MOTORCYCLE_ACCIDENT     ...            CITY    POINT_X    POINT_Y    1    2  \\\n",
       "0                 NaN     ...       SAN DIEGO -117.10352  33.022082  0.0  0.0   \n",
       "1                 NaN     ...       SAN DIEGO        NaN        NaN  1.0  0.0   \n",
       "2                 NaN     ...       SAN DIEGO        NaN        NaN  0.0  0.0   \n",
       "3                 NaN     ...       SAN DIEGO -117.10919  33.005710  1.0  0.0   \n",
       "4                 NaN     ...       SAN DIEGO -117.20530  32.760460  1.0  0.0   \n",
       "\n",
       "     3    4    5  NUM_NON_ALCOHOL  NUM_ALCOHOL  \n",
       "0  0.0  1.0  0.0              1.0          0.0  \n",
       "1  0.0  1.0  0.0              2.0          0.0  \n",
       "2  0.0  1.0  0.0              1.0          0.0  \n",
       "3  0.0  1.0  0.0              2.0          0.0  \n",
       "4  0.0  1.0  0.0              1.0          1.0  \n",
       "\n",
       "[5 rows x 31 columns]"
      ]
     },
     "execution_count": 19,
     "metadata": {},
     "output_type": "execute_result"
    }
   ],
   "source": [
    "collision_party_merged = pd.merge(collisions, party_merged)\n",
    "collision_party_merged.head()"
   ]
  },
  {
   "cell_type": "code",
   "execution_count": 20,
   "metadata": {
    "deletable": false,
    "nbgrader": {
     "checksum": "1252feb03934ae785de8b8001bc44ce2",
     "grade": true,
     "grade_id": "cell-06a8a817644d0116",
     "locked": false,
     "points": 5,
     "schema_version": 1,
     "solution": true
    }
   },
   "outputs": [
    {
     "name": "stdout",
     "output_type": "stream",
     "text": [
      "Requirement already satisfied: pyshp==1.2.12 in /opt/conda/lib/python3.6/site-packages (1.2.12)\r\n"
     ]
    }
   ],
   "source": [
    "!pip install --user pyshp==1.2.12"
   ]
  },
  {
   "cell_type": "code",
   "execution_count": 21,
   "metadata": {
    "deletable": false,
    "editable": false,
    "nbgrader": {
     "checksum": "3ca31123d0f93e4bbf3f00992a34702e",
     "grade": false,
     "grade_id": "cell-d05c7942ed405fa8",
     "locked": true,
     "schema_version": 1,
     "solution": false
    }
   },
   "outputs": [],
   "source": [
    "# 3. Clean spatial data as needed and create a point layer of collisions\n",
    "# You code goes here\n"
   ]
  },
  {
   "cell_type": "markdown",
   "metadata": {},
   "source": [
    "# Creating a pointmap of collision"
   ]
  },
  {
   "cell_type": "markdown",
   "metadata": {},
   "source": [
    "Now that we were able to merge the dataframes successfully, we're aiming to start visualizing our data to start to understand what our data means. We're first going to clean up our spatial data (to ensure no missing data) and then create a point map of all the collisions that occured in SD for the year."
   ]
  },
  {
   "cell_type": "code",
   "execution_count": 22,
   "metadata": {
    "deletable": false,
    "nbgrader": {
     "checksum": "935322671570362229173a90b5b2adbf",
     "grade": true,
     "grade_id": "cell-0531a1a9297e9e64",
     "locked": false,
     "points": 5,
     "schema_version": 1,
     "solution": true
    }
   },
   "outputs": [],
   "source": [
    "# need to convert to spatial due to the large amount of data \n",
    "import numpy as np\n",
    "sdf = pd.DataFrame.spatial.from_xy(collision_party_merged,x_column = 'POINT_X', y_column='POINT_Y')\n",
    "sdf1 = sdf.replace(np.nan, '', regex=True)\n",
    "sdf1.head()\n",
    "\n",
    "# might be doing this wrong? Wasn’t sure how to save to external file \n",
    "sdf_fl = sdf1.spatial.to_featurelayer(title='test', tags='sample data')\n",
    "\n",
    "# sdf2 = pd.DataFrame.spatial.from_featureclass('*/TEST.shp')\n",
    "# shp_properties = {'title':'test', 'tags':'sample data'}\n",
    "# collisions_shapefile = gis.content.add(item_properties = shp_properties, data=sdf2)"
   ]
  },
  {
   "cell_type": "code",
   "execution_count": 24,
   "metadata": {},
   "outputs": [
    {
     "data": {
      "text/html": [
       "<div class=\"item_container\" style=\"height: auto; overflow: hidden; border: 1px solid #cfcfcf; border-radius: 2px; background: #f6fafa; line-height: 1.21429em; padding: 10px;\">\n",
       "                    <div class=\"item_left\" style=\"width: 210px; float: left;\">\n",
       "                       <a href='https://UCSDOnline.maps.arcgis.com/home/item.html?id=6abf8f9716e149ad8155293d06b8af73' target='_blank'>\n",
       "                        <img src='http://static.arcgis.com/images/desktopapp.png' class=\"itemThumbnail\">\n",
       "                       </a>\n",
       "                    </div>\n",
       "\n",
       "                    <div class=\"item_right\"     style=\"float: none; width: auto; overflow: hidden;\">\n",
       "                        <a href='https://UCSDOnline.maps.arcgis.com/home/item.html?id=6abf8f9716e149ad8155293d06b8af73' target='_blank'><b>test</b>\n",
       "                        </a>\n",
       "                        <br/><img src='https://UCSDOnline.maps.arcgis.com/home/js/jsapi/esri/css/images/item_type_icons/featureshosted16.png' style=\"vertical-align:middle;\">Feature Layer Collection by ishibu_UCSDOnline\n",
       "                        <br/>Last Modified: June 04, 2019\n",
       "                        <br/>0 comments, 0 views\n",
       "                    </div>\n",
       "                </div>\n",
       "                "
      ],
      "text/plain": [
       "<Item title:\"test\" type:Feature Layer Collection owner:ishibu_UCSDOnline>"
      ]
     },
     "execution_count": 24,
     "metadata": {},
     "output_type": "execute_result"
    }
   ],
   "source": [
    "sdf_fl"
   ]
  },
  {
   "cell_type": "code",
   "execution_count": 28,
   "metadata": {},
   "outputs": [
    {
     "data": {
      "text/plain": [
       "CASE_ID                       int64\n",
       "POPULATION                    int64\n",
       "COLLISION_SEVERITY            int64\n",
       "NUMBER_KILLED                 int64\n",
       "NUMBER_INJURED                int64\n",
       "PARTY_COUNT                   int64\n",
       "PRIMARY_COLL_FACTOR          object\n",
       "PEDESTRIAN_ACCIDENT          object\n",
       "BICYCLE_ACCIDENT             object\n",
       "MOTORCYCLE_ACCIDENT          object\n",
       "TRUCK_ACCIDENT               object\n",
       "ALCOHOL_INVOLVED             object\n",
       "COUNT_PED_KILLED              int64\n",
       "COUNT_PED_INJURED             int64\n",
       "COUNT_BICYCLIST_KILLED        int64\n",
       "COUNT_BICYCLIST_INJURED       int64\n",
       "COUNT_MC_KILLED               int64\n",
       "COUNT_MC_INJURED              int64\n",
       "LATITUDE                     object\n",
       "LONGITUDE                    object\n",
       "COUNTY                       object\n",
       "CITY                         object\n",
       "POINT_X                      object\n",
       "POINT_Y                      object\n",
       "1                           float64\n",
       "2                           float64\n",
       "3                           float64\n",
       "4                           float64\n",
       "5                           float64\n",
       "NUM_NON_ALCOHOL             float64\n",
       "NUM_ALCOHOL                 float64\n",
       "SHAPE                      geometry\n",
       "dtype: object"
      ]
     },
     "execution_count": 28,
     "metadata": {},
     "output_type": "execute_result"
    }
   ],
   "source": [
    "sdf1.dtypes"
   ]
  },
  {
   "cell_type": "code",
   "execution_count": 23,
   "metadata": {
    "scrolled": true
   },
   "outputs": [
    {
     "data": {
      "application/vnd.jupyter.widget-view+json": {
       "model_id": "1915647a011f4b0f92601de44bfcc6d6",
       "version_major": 2,
       "version_minor": 0
      },
      "text/plain": [
       "MapView(layout=Layout(height='400px', width='100%'))"
      ]
     },
     "metadata": {},
     "output_type": "display_data"
    },
    {
     "data": {
      "text/html": [
       "<div class=\"map-static-img-preview-f0e5ca92-ddf4-4e40-95ec-83db7eb5275f\"><img src=\"\"></img></div>"
      ],
      "text/plain": [
       "<IPython.core.display.HTML object>"
      ]
     },
     "metadata": {},
     "output_type": "display_data"
    }
   ],
   "source": [
    "# Now we can show this layer on a map\n",
    "\n",
    "m = gis.map('San Diego, California')\n",
    "m.add_layer(sdf_fl)\n",
    "m"
   ]
  },
  {
   "cell_type": "code",
   "execution_count": 24,
   "metadata": {
    "deletable": false,
    "editable": false,
    "nbgrader": {
     "checksum": "0c1ec0c8c654e2325f7ebd6bbed4d62d",
     "grade": false,
     "grade_id": "cell-627d225b8e416c04",
     "locked": true,
     "schema_version": 1,
     "solution": false
    }
   },
   "outputs": [],
   "source": [
    "# 4. Define what you mean to be on a bike route, \n",
    "# and figure out, for each collision, whether it happened on a bike route or not. \n",
    "# Summarize collisions of different types by zip codes.\n",
    "# You code goes here\n"
   ]
  },
  {
   "cell_type": "markdown",
   "metadata": {},
   "source": [
    "# More in depth on bike path collisions"
   ]
  },
  {
   "cell_type": "markdown",
   "metadata": {},
   "source": [
    "We've successfully created and imported our feature layer of collisions! This is what the map looks like, along with San Diego Bike Routes marked in purple\n",
    "As you can tell by the above map, there are a lot of collisions. However, we're particularly interested in the collisions that occured on bike paths. Because not all collisions will be marked directly on bike paths, we decided to pad each collision point with buffer zones of 15 feet. This way we'll be able to find collisions that occurred relatively close to or on bike paths."
   ]
  },
  {
   "cell_type": "code",
   "execution_count": 25,
   "metadata": {
    "deletable": false,
    "nbgrader": {
     "checksum": "3f39cdef40ba02c725ea6a4e2dee248d",
     "grade": true,
     "grade_id": "cell-5f85a4693e6d0a23",
     "locked": false,
     "points": 10,
     "schema_version": 1,
     "solution": true
    }
   },
   "outputs": [],
   "source": [
    "san_diego_bike_routes = gis.content.search('title: SanDiegoBikeRoutes','Feature layer',outside_org=True)[0].layers[0]\n",
    "buffer_points = create_buffers(sdf_fl, distances=[15], units='Feet')\n",
    "buffer_layer = buffer_points.query().df.to_featurelayer(title='buffers',tags='sample data')\n",
    "buffer_points_sdf = pd.DataFrame.spatial.from_layer(buffer_layer.layers[0])\n",
    "bike_sdf =  pd.DataFrame.spatial.from_layer(san_diego_bike_routes)\n",
    "sdf_joined = buffer_points_sdf.spatial.join(bike_sdf)\n",
    "temp = pd.DataFrame.spatial.from_xy(sdf_joined,x_column = 'POINT_X', y_column='POINT_Y')\n",
    "temp = temp.replace(np.nan, '', regex=True)\n",
    "bike_buffer_fl = temp.spatial.to_featurelayer(title='Bike&Buffer', tags='sample data')\n",
    "def in_bike_path(x):\n",
    "    if x['CASE_ID'] in list(temp['CASE_ID']):\n",
    "        return True\n",
    "    return False\n",
    "\n",
    "#adds a column to collision_party_merged if that states if the point is on a bike path or not\n",
    "collision_party_merged['ON_BIKE_PATH']=collision_party_merged.apply(lambda x: in_bike_path(x), axis=1)"
   ]
  },
  {
   "cell_type": "code",
   "execution_count": 26,
   "metadata": {},
   "outputs": [
    {
     "data": {
      "application/vnd.jupyter.widget-view+json": {
       "model_id": "d01942d151d6474b9073d70a8091461b",
       "version_major": 2,
       "version_minor": 0
      },
      "text/plain": [
       "MapView(layout=Layout(height='400px', width='100%'))"
      ]
     },
     "metadata": {},
     "output_type": "display_data"
    },
    {
     "data": {
      "text/html": [
       "<div class=\"map-static-img-preview-66a46093-ca6b-4b3d-984c-1e26d40fc569\"><img src=\"\"></img></div>"
      ],
      "text/plain": [
       "<IPython.core.display.HTML object>"
      ]
     },
     "metadata": {},
     "output_type": "display_data"
    }
   ],
   "source": [
    "m3 = gis.map('San Diego, California')\n",
    "m3.add_layer(bike_buffer_fl)\n",
    "m3.add_layer(san_diego_bike_routes)\n",
    "m3"
   ]
  },
  {
   "cell_type": "code",
   "execution_count": 27,
   "metadata": {},
   "outputs": [],
   "source": [
    "zip_code = gis.content.search('title: Zipcodes, owner: jluostarinen','Feature layer',outside_org=True)[0].layers[0]\n",
    "zip_code_sdf = pd.DataFrame.spatial.from_layer(zip_code)\n",
    "point_sdf = pd.DataFrame.spatial.from_layer(sdf_fl.layers[0])\n",
    "zip_joined = zip_code_sdf.spatial.join(point_sdf)\n",
    "zip_codes_processed = pd.DataFrame(zip_joined.groupby('CASE_ID')['ZIP'].value_counts())\n",
    "zip_codes_processed.columns= ['ZIP_CODES']\n",
    "zip_codes_processed = zip_codes_processed.reset_index().drop(columns=['ZIP_CODES'])\n",
    "collision_party_merged_zip_codes = pd.merge(zip_codes_processed, collision_party_merged)"
   ]
  },
  {
   "cell_type": "code",
   "execution_count": 28,
   "metadata": {},
   "outputs": [],
   "source": [
    "zip_string = list(collision_party_merged_zip_codes.apply(lambda x: str(x['ZIP']), axis=1))\n",
    "en = enrich(study_areas=zip_string, data_collections=['GroceryAlcoholicBeverages'])\n",
    "lst_columns = []\n",
    "for i in list(en.columns)[2:324]:\n",
    "    if 'a_' not in i:\n",
    "        lst_columns.append(i)\n",
    "en_alcohol = en.drop(columns=lst_columns, axis=1)"
   ]
  },
  {
   "cell_type": "code",
   "execution_count": 69,
   "metadata": {},
   "outputs": [
    {
     "data": {
      "text/plain": [
       "['HasData',\n",
       " 'ID',\n",
       " 'MP04001a_B',\n",
       " 'MP04001a_I',\n",
       " 'MP04002a_B',\n",
       " 'MP04002a_I',\n",
       " 'MP04003a_B',\n",
       " 'MP04003a_I',\n",
       " 'MP04004a_B',\n",
       " 'MP04004a_I',\n",
       " 'MP04005a_B',\n",
       " 'MP04005a_I',\n",
       " 'MP04006a_B',\n",
       " 'MP04006a_I',\n",
       " 'MP04008a_B',\n",
       " 'MP04008a_I',\n",
       " 'MP04009a_B',\n",
       " 'MP04009a_I',\n",
       " 'MP04010a_B',\n",
       " 'MP04010a_I',\n",
       " 'MP04011a_B',\n",
       " 'MP04011a_I',\n",
       " 'MP04012a_B',\n",
       " 'MP04012a_I',\n",
       " 'MP04013a_B',\n",
       " 'MP04013a_I',\n",
       " 'MP04014a_B',\n",
       " 'MP04014a_I',\n",
       " 'MP04015a_B',\n",
       " 'MP04015a_I',\n",
       " 'MP04016a_B',\n",
       " 'MP04016a_I',\n",
       " 'MP04017a_B',\n",
       " 'MP04017a_I',\n",
       " 'MP04018a_B',\n",
       " 'MP04018a_I',\n",
       " 'MP04019a_B',\n",
       " 'MP04019a_I',\n",
       " 'MP04020a_B',\n",
       " 'MP04020a_I',\n",
       " 'MP04021a_B',\n",
       " 'MP04021a_I',\n",
       " 'MP04022a_B',\n",
       " 'MP04022a_I',\n",
       " 'MP04023a_B',\n",
       " 'MP04023a_I',\n",
       " 'MP04024a_B',\n",
       " 'MP04024a_I',\n",
       " 'MP04025a_B',\n",
       " 'MP04025a_I',\n",
       " 'MP04026a_B',\n",
       " 'MP04026a_I',\n",
       " 'MP04027a_B',\n",
       " 'MP04027a_I',\n",
       " 'MP04028a_B',\n",
       " 'MP04028a_I',\n",
       " 'MP04029a_B',\n",
       " 'MP04029a_I',\n",
       " 'MP04030a_B',\n",
       " 'MP04030a_I',\n",
       " 'MP04031a_B',\n",
       " 'MP04031a_I',\n",
       " 'MP04032a_B',\n",
       " 'MP04032a_I',\n",
       " 'MP04033a_B',\n",
       " 'MP04033a_I',\n",
       " 'MP04034a_B',\n",
       " 'MP04034a_I',\n",
       " 'MP04035a_B',\n",
       " 'MP04035a_I',\n",
       " 'MP04036a_B',\n",
       " 'MP04036a_I',\n",
       " 'MP04037a_B',\n",
       " 'MP04037a_I',\n",
       " 'MP04038a_B',\n",
       " 'MP04038a_I',\n",
       " 'MP04039a_B',\n",
       " 'MP04039a_I',\n",
       " 'MP04040a_B',\n",
       " 'MP04040a_I',\n",
       " 'MP04041a_B',\n",
       " 'MP04041a_I',\n",
       " 'MP04042a_B',\n",
       " 'MP04042a_I',\n",
       " 'MP12012a_B',\n",
       " 'MP12012a_I',\n",
       " 'MP12038a_B',\n",
       " 'MP12038a_I',\n",
       " 'MP12039a_B',\n",
       " 'MP12039a_I',\n",
       " 'MP12040a_B',\n",
       " 'MP12040a_I',\n",
       " 'MP12041a_B',\n",
       " 'MP12041a_I',\n",
       " 'MP12042a_B',\n",
       " 'MP12042a_I',\n",
       " 'MP12077a_B',\n",
       " 'MP12077a_I',\n",
       " 'MP12078a_B',\n",
       " 'MP12078a_I',\n",
       " 'MP12097a_B',\n",
       " 'MP12097a_I',\n",
       " 'MP12129a_B',\n",
       " 'MP12129a_I',\n",
       " 'MP12145a_B',\n",
       " 'MP12145a_I',\n",
       " 'MP12146a_B',\n",
       " 'MP12146a_I',\n",
       " 'MP12184a_B',\n",
       " 'MP12184a_I',\n",
       " 'MP12199a_B',\n",
       " 'MP12199a_I',\n",
       " 'MP12204a_B',\n",
       " 'MP12204a_I',\n",
       " 'MP13005a_B',\n",
       " 'MP13005a_I',\n",
       " 'MP13006a_B',\n",
       " 'MP13006a_I',\n",
       " 'MP13007a_B',\n",
       " 'MP13007a_I',\n",
       " 'MP13008a_B',\n",
       " 'MP13008a_I',\n",
       " 'MP13009a_B',\n",
       " 'MP13009a_I',\n",
       " 'MP13010a_B',\n",
       " 'MP13010a_I',\n",
       " 'MP13011a_B',\n",
       " 'MP13011a_I',\n",
       " 'MP13012a_B',\n",
       " 'MP13012a_I',\n",
       " 'MP13013a_B',\n",
       " 'MP13013a_I',\n",
       " 'MP13014a_B',\n",
       " 'MP13014a_I',\n",
       " 'MP13016a_B',\n",
       " 'MP13016a_I',\n",
       " 'MP13017a_B',\n",
       " 'MP13017a_I',\n",
       " 'MP13018a_B',\n",
       " 'MP13018a_I',\n",
       " 'MP13019a_B',\n",
       " 'MP13019a_I',\n",
       " 'MP13021a_B',\n",
       " 'MP13021a_I',\n",
       " 'MP13022a_B',\n",
       " 'MP13022a_I',\n",
       " 'MP13023a_B',\n",
       " 'MP13023a_I',\n",
       " 'MP13024a_B',\n",
       " 'MP13024a_I',\n",
       " 'MP13025a_B',\n",
       " 'MP13025a_I',\n",
       " 'MP13026a_B',\n",
       " 'MP13026a_I',\n",
       " 'MP13027a_B',\n",
       " 'MP13027a_I',\n",
       " 'MP13028a_B',\n",
       " 'MP13028a_I',\n",
       " 'OBJECTID',\n",
       " 'SHAPE',\n",
       " 'TADULTBASE',\n",
       " 'THHBASE',\n",
       " 'X',\n",
       " 'Y',\n",
       " 'aggregationMethod',\n",
       " 'apportionmentConfidence',\n",
       " 'areaType',\n",
       " 'bufferRadii',\n",
       " 'bufferUnits',\n",
       " 'bufferUnitsAlias',\n",
       " 'populationToPolygonSizeRating',\n",
       " 'sourceCountry']"
      ]
     },
     "execution_count": 69,
     "metadata": {},
     "output_type": "execute_result"
    }
   ],
   "source": [
    "list(en_alcohol.columns)"
   ]
  },
  {
   "cell_type": "code",
   "execution_count": 209,
   "metadata": {
    "deletable": false,
    "editable": false,
    "nbgrader": {
     "checksum": "ed7785c06542392a727b0c38ac35237e",
     "grade": false,
     "grade_id": "cell-4d4834da23fc79cb",
     "locked": true,
     "schema_version": 1,
     "solution": false
    }
   },
   "outputs": [],
   "source": [
    "# 5. Generate maps\n",
    "# You code goes here\n"
   ]
  },
  {
   "cell_type": "code",
   "execution_count": 201,
   "metadata": {
    "deletable": false,
    "nbgrader": {
     "checksum": "8f5202462b707abf1c54939e9802077b",
     "grade": true,
     "grade_id": "cell-9f85e966afab18c4",
     "locked": false,
     "points": 10,
     "schema_version": 1,
     "solution": true
    }
   },
   "outputs": [
    {
     "ename": "NotImplementedError",
     "evalue": "",
     "output_type": "error",
     "traceback": [
      "\u001b[0;31m---------------------------------------------------------------------------\u001b[0m",
      "\u001b[0;31mNotImplementedError\u001b[0m                       Traceback (most recent call last)",
      "\u001b[0;32m<ipython-input-201-15b94d1fa268>\u001b[0m in \u001b[0;36m<module>\u001b[0;34m()\u001b[0m\n\u001b[1;32m      1\u001b[0m \u001b[0;31m# YOUR CODE HERE\u001b[0m\u001b[0;34m\u001b[0m\u001b[0;34m\u001b[0m\u001b[0;34m\u001b[0m\u001b[0m\n\u001b[0;32m----> 2\u001b[0;31m \u001b[0;32mraise\u001b[0m \u001b[0mNotImplementedError\u001b[0m\u001b[0;34m(\u001b[0m\u001b[0;34m)\u001b[0m\u001b[0;34m\u001b[0m\u001b[0;34m\u001b[0m\u001b[0m\n\u001b[0m",
      "\u001b[0;31mNotImplementedError\u001b[0m: "
     ]
    }
   ],
   "source": [
    "# YOUR CODE HERE\n",
    "raise NotImplementedError()"
   ]
  },
  {
   "cell_type": "code",
   "execution_count": null,
   "metadata": {
    "deletable": false,
    "editable": false,
    "nbgrader": {
     "checksum": "52fd0b73d36055786d89051fbd240761",
     "grade": false,
     "grade_id": "cell-93b531e243f5b861",
     "locked": true,
     "schema_version": 1,
     "solution": false
    }
   },
   "outputs": [],
   "source": [
    "# 6. Analyze the data and write responses to the above questions\n",
    "# You code goes here\n"
   ]
  },
  {
   "cell_type": "code",
   "execution_count": 461,
   "metadata": {},
   "outputs": [],
   "source": [
    "from sklearn.linear_model import LinearRegression\n",
    "from sklearn.model_selection import train_test_split"
   ]
  },
  {
   "cell_type": "code",
   "execution_count": 462,
   "metadata": {},
   "outputs": [
    {
     "data": {
      "text/plain": [
       "<matplotlib.legend.Legend at 0x7f1d3d4037f0>"
      ]
     },
     "execution_count": 462,
     "metadata": {},
     "output_type": "execute_result"
    },
    {
     "data": {
      "image/png": "[encoded data removed]",
      "text/plain": [
       "<Figure size 432x288 with 1 Axes>"
      ]
     },
     "metadata": {
      "needs_background": "light"
     },
     "output_type": "display_data"
    }
   ],
   "source": [
    "\n",
    "injury_bike_path_stats = collision_party_merged_zip_codes[['NUMBER_INJURED','ON_BIKE_PATH']]\n",
    "x = injury_bike_path_stats[injury_bike_path_stats['ON_BIKE_PATH']==True]['NUMBER_INJURED']\n",
    "y = injury_bike_path_stats[injury_bike_path_stats['ON_BIKE_PATH']==False]['NUMBER_INJURED']\n",
    "\n",
    "plt.hist([x, y],label=['ON BIKE PATH', 'NOT ON BIKE PATH'])\n",
    "plt.legend(loc='upper right')"
   ]
  },
  {
   "cell_type": "code",
   "execution_count": 463,
   "metadata": {
    "deletable": false,
    "nbgrader": {
     "checksum": "44ae55a75f5de20170f9b6909ddb8245",
     "grade": true,
     "grade_id": "cell-1eddfee53360f3fb",
     "locked": false,
     "points": 10,
     "schema_version": 1,
     "solution": true
    }
   },
   "outputs": [
    {
     "data": {
      "text/plain": [
       "<matplotlib.legend.Legend at 0x7f1d2def05c0>"
      ]
     },
     "execution_count": 463,
     "metadata": {},
     "output_type": "execute_result"
    },
    {
     "data": {
      "image/png": "[encoded data removed]",
      "text/plain": [
       "<Figure size 432x288 with 1 Axes>"
      ]
     },
     "metadata": {
      "needs_background": "light"
     },
     "output_type": "display_data"
    }
   ],
   "source": [
    "injury_bike_path_stats = collision_party_merged_zip_codes[['NUMBER_INJURED','ON_BIKE_PATH']]\n",
    "x = injury_bike_path_stats[injury_bike_path_stats['ON_BIKE_PATH']==True]['NUMBER_INJURED']/len(\n",
    "    injury_bike_path_stats[injury_bike_path_stats['ON_BIKE_PATH']==True])\n",
    "y = injury_bike_path_stats[injury_bike_path_stats['ON_BIKE_PATH']==False]['NUMBER_INJURED']/len(\n",
    "    injury_bike_path_stats[injury_bike_path_stats['ON_BIKE_PATH']==False])\n",
    "\n",
    "plt.hist([x, y],label=['ON BIKE PATH', 'NOT ON BIKE PATH'])\n",
    "plt.legend(loc='upper right')"
   ]
  },
  {
   "cell_type": "code",
   "execution_count": 464,
   "metadata": {},
   "outputs": [
    {
     "data": {
      "text/plain": [
       "[<matplotlib.lines.Line2D at 0x7f1d1e6babe0>]"
      ]
     },
     "execution_count": 464,
     "metadata": {},
     "output_type": "execute_result"
    },
    {
     "data": {
      "image/png": "[encoded data removed]",
      "text/plain": [
       "<Figure size 432x288 with 1 Axes>"
      ]
     },
     "metadata": {
      "needs_background": "light"
     },
     "output_type": "display_data"
    }
   ],
   "source": [
    "lm = LinearRegression()\n",
    "X = collision_party_merged_zip_codes['ZIP']\n",
    "X = np.array(list(X)).reshape(-1, 1)\n",
    "y = collision_party_merged_zip_codes['NUMBER_INJURED']\n",
    "X_train, X_test, y_train, y_test = train_test_split(X, y, test_size=0.4, random_state=101)\n",
    "lm.fit(X_train,y_train)\n",
    "prediction =lm.predict(X_test)\n",
    "plt.scatter(X_test, y_test)\n",
    "plt.plot(X_test, prediction, color='blue', linewidth=3)"
   ]
  },
  {
   "cell_type": "code",
   "execution_count": 465,
   "metadata": {},
   "outputs": [
    {
     "data": {
      "text/plain": [
       "[<matplotlib.lines.Line2D at 0x7f1d2d6ac470>]"
      ]
     },
     "execution_count": 465,
     "metadata": {},
     "output_type": "execute_result"
    },
    {
     "data": {
      "image/png": "[encoded data removed]",
      "text/plain": [
       "<Figure size 432x288 with 1 Axes>"
      ]
     },
     "metadata": {
      "needs_background": "light"
     },
     "output_type": "display_data"
    }
   ],
   "source": [
    "lm = LinearRegression()\n",
    "X = collision_party_merged_zip_codes['COLLISION_SEVERITY']\n",
    "X = np.array(list(X)).reshape(-1, 1)\n",
    "y = collision_party_merged_zip_codes['NUMBER_INJURED']\n",
    "X_train, X_test, y_train, y_test = train_test_split(X, y, test_size=0.4, random_state=101)\n",
    "lm.fit(X_train,y_train)\n",
    "prediction =lm.predict(X_test)\n",
    "plt.scatter(X_test, y_test)\n",
    "plt.plot(X_test, prediction, color='blue', linewidth=3)"
   ]
  },
  {
   "cell_type": "code",
   "execution_count": 466,
   "metadata": {},
   "outputs": [
    {
     "data": {
      "text/plain": [
       "[<matplotlib.lines.Line2D at 0x7f1d4aac3438>]"
      ]
     },
     "execution_count": 466,
     "metadata": {},
     "output_type": "execute_result"
    },
    {
     "data": {
      "image/png": "[encoded data removed]",
      "text/plain": [
       "<Figure size 432x288 with 1 Axes>"
      ]
     },
     "metadata": {
      "needs_background": "light"
     },
     "output_type": "display_data"
    }
   ],
   "source": [
    "lm = LinearRegression()\n",
    "X = collision_party_merged_zip_codes['PARTY_COUNT']\n",
    "X = np.array(list(X)).reshape(-1, 1)\n",
    "y = collision_party_merged_zip_codes['NUMBER_INJURED']\n",
    "X_train, X_test, y_train, y_test = train_test_split(X, y, test_size=0.4, random_state=101)\n",
    "lm.fit(X_train,y_train)\n",
    "prediction =lm.predict(X_test)\n",
    "plt.scatter(X_test, y_test)\n",
    "plt.plot(X_test, prediction, color='blue', linewidth=3)"
   ]
  },
  {
   "cell_type": "markdown",
   "metadata": {
    "deletable": false,
    "nbgrader": {
     "checksum": "630250824b9da45982d2b24f0f352a4b",
     "grade": true,
     "grade_id": "cell-1e7068bc9f168fd9",
     "locked": false,
     "points": 2,
     "schema_version": 1,
     "solution": true
    }
   },
   "source": [
    "YOUR ANSWER HERE"
   ]
  },
  {
   "cell_type": "markdown",
   "metadata": {
    "deletable": false,
    "nbgrader": {
     "checksum": "b04278e61ab766bc78e7fcfc737b469d",
     "grade": true,
     "grade_id": "cell-d5df564323ad019d",
     "locked": false,
     "points": 2,
     "schema_version": 1,
     "solution": true
    }
   },
   "source": [
    "YOUR ANSWER HERE"
   ]
  },
  {
   "cell_type": "code",
   "execution_count": null,
   "metadata": {
    "deletable": false,
    "nbgrader": {
     "checksum": "1bb4c5663b9ea00ee0d1ef5f157612d2",
     "grade": true,
     "grade_id": "cell-545399295b08666d",
     "locked": false,
     "points": 5,
     "schema_version": 1,
     "solution": true
    }
   },
   "outputs": [],
   "source": [
    "# YOUR CODE HERE\n",
    "raise NotImplementedError()"
   ]
  },
  {
   "cell_type": "code",
   "execution_count": null,
   "metadata": {},
   "outputs": [],
   "source": [
    "# Please let us know how much time you spent on this project, in hours: \n",
    "# (we will only examine distributions and won't look at individual responses)\n",
    "assignment_timespent = \n",
    "extracredit_timespent = "
   ]
  }
 ],
 "metadata": {
  "kernelspec": {
   "display_name": "Python 3",
   "language": "python",
   "name": "python3"
  },
  "language_info": {
   "codemirror_mode": {
    "name": "ipython",
    "version": 3
   },
   "file_extension": ".py",
   "mimetype": "text/x-python",
   "name": "python",
   "nbconvert_exporter": "python",
   "pygments_lexer": "ipython3",
   "version": "3.6.8"
  }
 },
 "nbformat": 4,
 "nbformat_minor": 2
}
